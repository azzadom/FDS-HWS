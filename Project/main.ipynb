{
 "cells": [
  {
   "cell_type": "markdown",
   "metadata": {},
   "source": [
    "# **Project:** Pathology Detection in Crop Plants\n",
    "\n",
    "Members:\n",
    "* Domenico Azzarito​\n",
    "* Guillermo Bajo Laborda​\n",
    "* Laura Alejandra Moreno​\n",
    "* Arian Gharehmohammadzadehghashghaei​\n",
    "* Michele Pezza\n",
    "\n",
    "\n",
    "*Fundamentals of Data Science | Sapienza University of Rome*"
   ]
  },
  {
   "cell_type": "code",
   "execution_count": 91,
   "metadata": {},
   "outputs": [],
   "source": [
    "#imports\n",
    "import tensorflow as tf\n",
    "import pandas as pd\n",
    "import os\n",
    "import numpy as np\n",
    "import matplotlib.pyplot as plt"
   ]
  },
  {
   "cell_type": "markdown",
   "metadata": {},
   "source": [
    "## 1. EAD"
   ]
  },
  {
   "cell_type": "markdown",
   "metadata": {},
   "source": [
    "## 2. CNN\n",
    "\n",
    "In this step, the image data has been loaded, and also a normaliation, resizing and augmentation process has been implemented.\n",
    "\n",
    "The key libraries used were TensorFlow for image processing, Pandas for handling the CSV files, and also os library. \n",
    "\n"
   ]
  },
  {
   "cell_type": "code",
   "execution_count": 111,
   "metadata": {},
   "outputs": [
    {
     "name": "stdout",
     "output_type": "stream",
     "text": [
      "Index(['image_id', 'healthy', 'multiple_diseases', 'rust', 'scab'], dtype='object')\n",
      "  image_id  healthy  multiple_diseases  rust  scab\n",
      "0  Train_0        0                  0     0     1\n",
      "1  Train_1        0                  1     0     0\n",
      "2  Train_2        1                  0     0     0\n",
      "3  Train_3        0                  0     1     0\n",
      "4  Train_4        1                  0     0     0\n"
     ]
    }
   ],
   "source": [
    "#data\n",
    "data_dir = 'images/'  \n",
    "sample_submission_csv = 'sample_submission.csv'\n",
    "test_csv = 'test.csv'\n",
    "train_csv = 'train.csv' \n",
    "train_df = pd.read_csv(train_csv)\n",
    "print(train_df.columns)\n",
    "train_df.columns = train_df.columns.str.strip()\n",
    "print(train_df.head())"
   ]
  },
  {
   "cell_type": "code",
   "execution_count": 112,
   "metadata": {},
   "outputs": [],
   "source": [
    "# Convert the encoded labels into arrays\n",
    "def con_process_labels(df):\n",
    "    labels = df[['healthy', 'multiple_diseases', 'rust', 'scab']].values\n",
    "    return labels\n",
    "    "
   ]
  },
  {
   "cell_type": "code",
   "execution_count": 113,
   "metadata": {},
   "outputs": [],
   "source": [
    "#Decode function to load and preprocess the image file\n",
    "\n",
    "def decode_image(filename, label=None, image_size=(512, 512)):\n",
    "    filepath = tf.strings.join([data_dir, filename])  \n",
    "    bits = tf.io.read_file(filepath)\n",
    "    image = tf.image.decode_jpeg(bits, channels=3)\n",
    "    image = tf.image.resize(image, image_size)\n",
    "    print(f\"decoded image shape: {image.shape}\")\n",
    "    image = tf.image.convert_image_dtype(image, tf.float32) \n",
    "    \n",
    "    if label is None:\n",
    "        return image\n",
    "    else:\n",
    "        return image, label\n",
    "\n"
   ]
  },
  {
   "cell_type": "code",
   "execution_count": 114,
   "metadata": {},
   "outputs": [],
   "source": [
    "#Data augmentation to the images\n",
    "\n",
    "def data_augmentation(image, label=None):\n",
    "    image = tf.image.random_flip_left_right(image)\n",
    "    image = tf.image.random_flip_up_down(image)\n",
    "    image = tf.image.random_brightness(image, max_delta=0.2)\n",
    "    image = tf.image.random_contrast(image, lower=0.8, upper=1.2)\n",
    "    \n",
    "    if label is None:\n",
    "        return image\n",
    "    else:\n",
    "        return image, label"
   ]
  },
  {
   "cell_type": "code",
   "execution_count": 115,
   "metadata": {},
   "outputs": [],
   "source": [
    "#Create a Tensorflow dataset for testing\n",
    "\n",
    "def prepare_dataset(df, image_size=(512, 512), batch_size=32, augment=False, is_train=True):\n",
    "    file_paths = df['image_id'] + '.jpg'  \n",
    "    \n",
    "    if is_train:\n",
    "        labels = con_process_labels(df) \n",
    "        dataset = tf.data.Dataset.from_tensor_slices((file_paths, labels))\n",
    "        dataset = dataset.map(lambda x, y: decode_image(x, y, image_size))  \n",
    "    else:\n",
    "        dataset = tf.data.Dataset.from_tensor_slices(file_paths)\n",
    "        dataset = dataset.map(lambda x: decode_image(x, label=None, image_size=image_size))\n",
    "    \n",
    "    if augment and is_train:\n",
    "        dataset = dataset.map(data_augmentation)  \n",
    "    \n",
    "    dataset = dataset.batch(batch_size).prefetch(tf.data.AUTOTUNE)  \n",
    "    return dataset"
   ]
  },
  {
   "cell_type": "code",
   "execution_count": 116,
   "metadata": {},
   "outputs": [
    {
     "name": "stdout",
     "output_type": "stream",
     "text": [
      "decoded image shape: (512, 512, 3)\n"
     ]
    }
   ],
   "source": [
    "# Create train dataset\n",
    "train_dataset = prepare_dataset(train_df, image_size=image_size, augment=True, is_train=True)"
   ]
  },
  {
   "cell_type": "code",
   "execution_count": 117,
   "metadata": {},
   "outputs": [
    {
     "name": "stdout",
     "output_type": "stream",
     "text": [
      "decoded image shape: (512, 512, 3)\n"
     ]
    }
   ],
   "source": [
    "# Load test data\n",
    "test_df = pd.read_csv(test_csv)\n",
    "test_df.columns = test_df.columns.str.strip()  # Clean the column names for test set\n",
    "test_dataset = prepare_dataset(test_df, image_size=(512, 512), augment=False, is_train=False)"
   ]
  },
  {
   "cell_type": "code",
   "execution_count": null,
   "metadata": {},
   "outputs": [
    {
     "name": "stdout",
     "output_type": "stream",
     "text": [
      "Image batch shape: (32, 512, 512, 3)\n",
      "Label batch shape: (32, 4)\n",
      "Image batch min and max values: -17.139069 284.97043\n",
      "Image 0 range: min=-2.2991714477539062, max=268.9586486816406\n",
      "Image 1 range: min=28.45008087158203, max=232.82144165039062\n",
      "Image 2 range: min=15.806106567382812, max=246.37106323242188\n",
      "Image 3 range: min=0.49831390380859375, max=265.38421630859375\n",
      "Image 4 range: min=19.198104858398438, max=231.948486328125\n",
      "Image 5 range: min=-6.865386962890625, max=273.37677001953125\n",
      "Image 6 range: min=10.573051452636719, max=275.4283447265625\n",
      "Image 7 range: min=6.0124664306640625, max=252.88070678710938\n",
      "Image 8 range: min=-12.432632446289062, max=282.1144714355469\n"
     ]
    },
    {
     "data": {
      "image/png": "[encoded data removed]",
      "text/plain": [
       "<Figure size 1000x1000 with 9 Axes>"
      ]
     },
     "metadata": {},
     "output_type": "display_data"
    }
   ],
   "source": [
    "#Verification \n",
    "\n",
    "for image_batch, label_batch in train_dataset.take(1):\n",
    "    print(f\"Image batch shape: {image_batch.shape}\")\n",
    "    print(f\"Label batch shape: {label_batch.shape}\")\n",
    "    \n",
    "    # Check the min and max values of the entire image batch\n",
    "    min_val = tf.reduce_min(image_batch).numpy()\n",
    "    max_val = tf.reduce_max(image_batch).numpy()\n",
    "    print(\"Image batch min and max values:\", min_val, max_val)\n",
    "    \n",
    "    # Check if any image has invalid values (NaN or Inf)\n",
    "    if tf.reduce_any(tf.math.is_nan(image_batch)):\n",
    "        print(\"Warning: There are NaN values in the image batch.\")\n",
    "    if tf.reduce_any(tf.math.is_inf(image_batch)):\n",
    "        print(\"Warning: There are Inf values in the image batch.\")\n",
    "\n",
    "    # Start plotting the first 9 images from the batch\n",
    "    plt.figure(figsize=(10, 10))\n",
    "    for i in range(9):  \n",
    "        plt.subplot(3, 3, i+1)\n",
    "        img = image_batch[i].numpy() \n",
    "        img_min = np.min(img)\n",
    "        img_max = np.max(img)\n",
    "        print(f\"Image {i} range: min={img_min}, max={img_max}\")\n",
    "        \n",
    "        # Check for NaN or Inf in individual image\n",
    "        if np.any(np.isnan(img)):\n",
    "            print(f\"Warning: Image {i} contains NaN values.\")\n",
    "        if np.any(np.isinf(img)):\n",
    "            print(f\"Warning: Image {i} contains Inf values.\")\n",
    "        \n",
    "        # Clip values to [0, 1] for normalization, then rescale to [0, 255]\n",
    "        img = np.clip(img, 0, 1) \n",
    "        img = (img * 255).astype(np.uint8) \n",
    "        \n",
    "        plt.imshow(img)\n",
    "        plt.title(f\"Label: {np.argmax(label_batch[i].numpy())}\")\n",
    "        plt.axis('off')\n",
    "    \n",
    "    plt.show()\n"
   ]
  },
  {
   "cell_type": "markdown",
   "metadata": {},
   "source": [
    "# 3. Softmax Processing"
   ]
  },
  {
   "cell_type": "markdown",
   "metadata": {},
   "source": []
  },
  {
   "cell_type": "code",
   "execution_count": 123,
   "metadata": {},
   "outputs": [],
   "source": [
    "#Extract histograms for R, G, B channels and vectorie them\n",
    "def extract_color_histogram(image, bins=256):\n",
    "   \n",
    "    r_hist = tf.histogram_fixed_width(image[..., 0], [0.0, 1.0], nbins=bins)\n",
    "    g_hist = tf.histogram_fixed_width(image[..., 1], [0.0, 1.0], nbins=bins)\n",
    "    b_hist = tf.histogram_fixed_width(image[..., 2], [0.0, 1.0], nbins=bins)\n",
    "    \n",
    "    total_pixels = tf.size(image[..., 0], out_type=tf.float32)  \n",
    "    r_hist = tf.cast(r_hist, tf.float32) / total_pixels\n",
    "    g_hist = tf.cast(g_hist, tf.float32) / total_pixels\n",
    "    b_hist = tf.cast(b_hist, tf.float32) / total_pixels\n",
    "    \n",
    "    color_histogram = tf.concat([r_hist, g_hist, b_hist], axis=-1)\n",
    "    return color_histogram\n",
    "\n"
   ]
  },
  {
   "cell_type": "code",
   "execution_count": null,
   "metadata": {},
   "outputs": [],
   "source": [
    "#List of historgrams\n",
    "\n",
    "def prepare_color_histograms(df, image_size=(500, 500)):\n",
    "    def process_image(filename):\n",
    "        filepath = tf.strings.join([data_dir, filename])  \n",
    "        bits = tf.io.read_file(filepath)\n",
    "        image = tf.image.decode_jpeg(bits, channels=3)\n",
    "        image = tf.image.resize(image, image_size)\n",
    "        color_histogram = extract_color_histogram(image)\n",
    "        return color_histogram\n",
    "\n",
    "    file_paths = df['image_id'] + '.jpg'  \n",
    "    dataset = tf.data.Dataset.from_tensor_slices(file_paths)\n",
    "    dataset = dataset.map(process_image)  #\n",
    "    histograms = []\n",
    "    \n",
    "    for hist in dataset:\n",
    "        histograms.append(hist.numpy())  \n",
    "    return histograms  \n",
    "\n"
   ]
  },
  {
   "cell_type": "code",
   "execution_count": 128,
   "metadata": {},
   "outputs": [],
   "source": [
    "def prepare_one_hot_labels(df):\n",
    "    labels = df[['healthy', 'multiple_diseases', 'rust', 'scab']].values\n",
    "    return labels\n"
   ]
  },
  {
   "cell_type": "code",
   "execution_count": null,
   "metadata": {},
   "outputs": [],
   "source": [
    "# Prepare train dataset\n",
    "train_histograms = prepare_color_histograms(train_df)\n",
    "train_labels = prepare_one_hot_labels(train_df)\n",
    "train_histograms_dataset = tf.data.Dataset.from_tensor_slices(train_histograms)\n",
    "train_labels_dataset = tf.data.Dataset.from_tensor_slices(train_labels)\n",
    "train_dataset = tf.data.Dataset.zip((train_histograms_dataset, train_labels_dataset))\n",
    "train_dataset = train_dataset.batch(32).prefetch(tf.data.AUTOTUNE)\n",
    "\n",
    "# Prepare test dataset (no labelS, only histograms)\n",
    "test_df = pd.read_csv(test_csv)\n",
    "test_df.columns = test_df.columns.str.strip()\n",
    "test_histograms = prepare_color_histograms(test_df)\n",
    "test_histograms_dataset = tf.data.Dataset.from_tensor_slices(test_histograms)\n",
    "test_dataset = test_histograms_dataset.batch(32).prefetch(tf.data.AUTOTUNE)"
   ]
  },
  {
   "cell_type": "code",
   "execution_count": 89,
   "metadata": {},
   "outputs": [
    {
     "name": "stdout",
     "output_type": "stream",
     "text": [
      "Histograms: [[0.       0.       0.       ... 0.       0.       0.999996]\n",
      " [0.       0.       0.       ... 0.       0.       1.      ]\n",
      " [0.       0.       0.       ... 0.       0.       1.      ]\n",
      " [0.       0.       0.       ... 0.       0.       1.      ]\n",
      " [0.       0.       0.       ... 0.       0.       1.      ]]\n",
      "Labels: [[0 0 0 1]\n",
      " [0 1 0 0]\n",
      " [1 0 0 0]\n",
      " [0 0 1 0]\n",
      " [1 0 0 0]]\n"
     ]
    }
   ],
   "source": [
    "for histograms, labels in train_dataset.take(1):\n",
    "    print(\"Histograms:\", histograms.numpy()[:5])\n",
    "    print(\"Labels:\", labels.numpy()[:5])"
   ]
  }
 ],
 "metadata": {
  "kernelspec": {
   "display_name": "base",
   "language": "python",
   "name": "python3"
  },
  "language_info": {
   "codemirror_mode": {
    "name": "ipython",
    "version": 3
   },
   "file_extension": ".py",
   "mimetype": "text/x-python",
   "name": "python",
   "nbconvert_exporter": "python",
   "pygments_lexer": "ipython3",
   "version": "3.12.4"
  }
 },
 "nbformat": 4,
 "nbformat_minor": 2
}
